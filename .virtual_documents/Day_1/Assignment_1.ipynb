





import pandas as pd
import numpy as np
import matplotlib.pyplot as plt
import seaborn as sns
import warnings
warnings.filterwarnings('ignore')

# Set plot style for better aesthetics
sns.set(style='whitegrid')
plt.rcParams['figure.figsize'] = (10, 6)


# Clone the dataset repository
!git clone https://github.com/GeeksforgeeksDS/21-Days-21-Projects-Dataset.git


# Load the Titanic dataset
try:
    titanic_df = pd.read_csv('21-Days-21-Projects-Dataset/Datasets/Titanic-Dataset.csv')
    print("Dataset loaded successfully!")
    print(f"Dataset shape: {titanic_df.shape}")
except FileNotFoundError:
    print("Dataset file not found. Please ensure the repository was cloned correctly.")
    # Fallback: create a sample dataset for demonstration
    print("Creating sample dataset for demonstration...")
    np.random.seed(42)
    n_samples = 100
    titanic_df = pd.DataFrame({
        'PassengerId': range(1, n_samples + 1),
        'Survived': np.random.choice([0, 1], n_samples, p=[0.6, 0.4]),
        'Pclass': np.random.choice([1, 2, 3], n_samples, p=[0.2, 0.3, 0.5]),
        'Name': [f'Passenger_{i}' for i in range(1, n_samples + 1)],
        'Sex': np.random.choice(['male', 'female'], n_samples, p=[0.65, 0.35]),
        'Age': np.random.normal(30, 15, n_samples).clip(0, 80),
        'SibSp': np.random.choice([0, 1, 2, 3], n_samples, p=[0.6, 0.25, 0.1, 0.05]),
        'Parch': np.random.choice([0, 1, 2], n_samples, p=[0.7, 0.2, 0.1]),
        'Ticket': [f'TICKET_{i}' for i in range(1, n_samples + 1)],
        'Fare': np.random.exponential(30, n_samples),
        'Cabin': np.random.choice(['A1', 'B2', 'C3', np.nan], n_samples, p=[0.1, 0.1, 0.1, 0.7]),
        'Embarked': np.random.choice(['S', 'C', 'Q'], n_samples, p=[0.7, 0.2, 0.1])
    })
    # Introduce some missing values
    titanic_df.loc[np.random.choice(titanic_df.index, 20, replace=False), 'Age'] = np.nan
    titanic_df.loc[np.random.choice(titanic_df.index, 2, replace=False), 'Embarked'] = np.nan

# Display basic information about the dataset
print("\nFirst 5 rows of the dataset:")
display(titanic_df.head())

print("\nDataset Information:")
titanic_df.info()





# Basic statistics
print("Descriptive Statistics:")
display(titanic_df.describe())

print("\nMissing Values:")
missing_values = titanic_df.isnull().sum()
missing_percent = (missing_values / len(titanic_df)) * 100
missing_df = pd.DataFrame({
    'Missing Count': missing_values,
    'Missing Percentage': missing_percent
})
display(missing_df[missing_df['Missing Count'] > 0])





# Create a copy for cleaning
titanic_clean = titanic_df.copy()

print("Data Cleaning Steps:")
print("1. Handling missing Age values with median imputation")
median_age = titanic_clean['Age'].median()
titanic_clean['Age'].fillna(median_age, inplace=True)

print("2. Handling missing Embarked values with mode imputation")
mode_embarked = titanic_clean['Embarked'].mode()[0]
titanic_clean['Embarked'].fillna(mode_embarked, inplace=True)

print("3. Creating Has_Cabin feature from Cabin column")
titanic_clean['Has_Cabin'] = titanic_clean['Cabin'].notna().astype(int)
titanic_clean.drop('Cabin', axis=1, inplace=True)

print("\nMissing values after cleaning:")
print(titanic_clean.isnull().sum().sum(), "total missing values")

print("\nCleaned dataset shape:", titanic_clean.shape)





# Feature Engineering
print("Creating new features:")

# 1. Family Size
titanic_clean['FamilySize'] = titanic_clean['SibSp'] + titanic_clean['Parch'] + 1
print("1. FamilySize = SibSp + Parch + 1")

# 2. Is Alone
titanic_clean['IsAlone'] = (titanic_clean['FamilySize'] == 1).astype(int)
print("2. IsAlone = 1 if FamilySize == 1, else 0")

# 3. Extract Title from Name
titanic_clean['Title'] = titanic_clean['Name'].str.extract(r' ([A-Za-z]+)\.', expand=False)
print("3. Title extracted from Name column")

# Simplify titles
title_mapping = {
    'Mr': 'Mr',
    'Mrs': 'Mrs', 
    'Miss': 'Miss',
    'Master': 'Master'
}
titanic_clean['Title'] = titanic_clean['Title'].map(title_mapping).fillna('Other')

# 4. Age Groups
titanic_clean['AgeGroup'] = pd.cut(titanic_clean['Age'], 
                                  bins=[0, 12, 18, 35, 60, 100], 
                                  labels=['Child', 'Teen', 'Adult', 'Middle_Age', 'Senior'])
print("4. AgeGroup created with bins: Child(0-12), Teen(13-18), Adult(19-35), Middle_Age(36-60), Senior(60+)")

print("\nNew features created:")
new_features = ['FamilySize', 'IsAlone', 'Title', 'AgeGroup', 'Has_Cabin']
display(titanic_clean[new_features].head())





# Survival Analysis Visualizations
fig, axes = plt.subplots(2, 2, figsize=(15, 12))
fig.suptitle('Survival Analysis', fontsize=16)

# Survival by Sex
sns.barplot(data=titanic_clean, x='Sex', y='Survived', ax=axes[0,0])
axes[0,0].set_title('Survival Rate by Gender')
axes[0,0].set_ylabel('Survival Rate')

# Survival by Passenger Class
sns.barplot(data=titanic_clean, x='Pclass', y='Survived', ax=axes[0,1])
axes[0,1].set_title('Survival Rate by Passenger Class')
axes[0,1].set_ylabel('Survival Rate')

# Survival by Age Group
sns.barplot(data=titanic_clean, x='AgeGroup', y='Survived', ax=axes[1,0])
axes[1,0].set_title('Survival Rate by Age Group')
axes[1,0].set_ylabel('Survival Rate')
axes[1,0].tick_params(axis='x', rotation=45)

# Survival by Family Size
sns.barplot(data=titanic_clean, x='FamilySize', y='Survived', ax=axes[1,1])
axes[1,1].set_title('Survival Rate by Family Size')
axes[1,1].set_ylabel('Survival Rate')

plt.tight_layout()
plt.show()


# Correlation Analysis
plt.figure(figsize=(12, 8))
numeric_cols = titanic_clean.select_dtypes(include=[np.number])
correlation_matrix = numeric_cols.corr()
sns.heatmap(correlation_matrix, annot=True, cmap='coolwarm', center=0, fmt='.2f')
plt.title('Correlation Matrix of Numerical Features')
plt.tight_layout()
plt.show()

print("Key correlations with Survival:")
survival_corr = correlation_matrix['Survived'].sort_values(ascending=False)
for feature, corr in survival_corr.items():
    if feature != 'Survived':
        print(f"{feature}: {corr:.3f}")





# Install ydata-profiling if not already installed
!pip install ydata-profiling -q


# Generate the profiling report
from ydata_profiling import ProfileReport

print("Generating comprehensive data profiling report...")
print("This may take a few moments...")

# Create profile report for the cleaned dataset
profile = ProfileReport(
    titanic_clean, 
    title="Titanic Dataset - Comprehensive Data Profiling Report",
    explorative=True,
    minimal=False
)

print("Profiling report generated successfully!")
print(f"Dataset contains {len(titanic_clean)} rows and {len(titanic_clean.columns)} columns")


# Display the report in the notebook
profile.to_notebook_iframe()


# Save the report to an HTML file for submission
output_filename = "titanic_profiling_report.html"
profile.to_file(output_filename)
print(f"Profiling report saved as: {output_filename}")
print("This HTML file can be submitted as the assignment solution.")





# Generate summary statistics and insights
print("=" * 60)
print("TITANIC DATASET ANALYSIS - KEY INSIGHTS")
print("=" * 60)

# Overall survival rate
overall_survival = titanic_clean['Survived'].mean()
print(f"\n1. OVERALL SURVIVAL RATE: {overall_survival:.1%}")

# Survival by gender
gender_survival = titanic_clean.groupby('Sex')['Survived'].mean()
print(f"\n2. SURVIVAL BY GENDER:")
for gender, rate in gender_survival.items():
    print(f"   {gender.capitalize()}: {rate:.1%}")

# Survival by class
class_survival = titanic_clean.groupby('Pclass')['Survived'].mean()
print(f"\n3. SURVIVAL BY PASSENGER CLASS:")
for pclass, rate in class_survival.items():
    print(f"   Class {pclass}: {rate:.1%}")

# Age analysis
age_survival = titanic_clean.groupby('AgeGroup')['Survived'].mean()
print(f"\n4. SURVIVAL BY AGE GROUP:")
for age_group, rate in age_survival.items():
    print(f"   {age_group}: {rate:.1%}")

# Family size impact
family_survival = titanic_clean.groupby('IsAlone')['Survived'].mean()
print(f"\n5. SURVIVAL BY FAMILY STATUS:")
print(f"   Traveling Alone: {family_survival[1]:.1%}")
print(f"   Traveling with Family: {family_survival[0]:.1%}")

# Cabin availability
cabin_survival = titanic_clean.groupby('Has_Cabin')['Survived'].mean()
print(f"\n6. SURVIVAL BY CABIN AVAILABILITY:")
print(f"   No Cabin Info: {cabin_survival[0]:.1%}")
print(f"   Has Cabin Info: {cabin_survival[1]:.1%}")

print("\n" + "=" * 60)



